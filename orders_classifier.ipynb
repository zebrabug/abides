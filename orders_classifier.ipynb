{
 "cells": [
  {
   "cell_type": "code",
   "execution_count": 1,
   "metadata": {},
   "outputs": [],
   "source": [
    "import pandas as pd\n",
    "import numpy as np\n",
    "import matplotlib.pyplot as plt\n",
    "%matplotlib inline\n",
    "import glob, os\n",
    "import sys"
   ]
  },
  {
   "cell_type": "code",
   "execution_count": 19,
   "metadata": {},
   "outputs": [
    {
     "data": {
      "text/plain": [
       "Index(['Id', 'Moment', 'Client', 'Pair', 'BookSide', 'Source', 'Tier', 'Tenor',\n",
       "       'TurnoverCloseRisk', 'TurnoverOpenRisk', 'TurnoverToMarket',\n",
       "       'UnrealizedPL', 'MidToMid', 'HedgingCost', 'HoldPositionTime',\n",
       "       'BookPositionReferenceCurrency', 'PublicMidPrice', 'BaseQty',\n",
       "       'ReferenceClientPrice', 'TradePositionReferenceCurrency', 'TernQty',\n",
       "       'ReferenceTraderPrice', 'Type', 'mid0', 'prev_r_mean', 'prev_r_val',\n",
       "       'next_2', 'next_last', 'Hour', 'DayOfWeek', 'Month', 'Expencies',\n",
       "       'clp_mid_diff', 'clp_mid_diff_qty'],\n",
       "      dtype='object')"
      ]
     },
     "execution_count": 19,
     "metadata": {},
     "output_type": "execute_result"
    }
   ],
   "source": [
    "prep_deals = pd.read_pickle('./data/marketreplay/input/all_features_df.pkl')\n",
    "prep_deals.columns"
   ]
  },
  {
   "cell_type": "code",
   "execution_count": 20,
   "metadata": {},
   "outputs": [],
   "source": [
    "prep_deals['next_2_clp_diff'] = 0.0\n",
    "prep_deals.loc[prep_deals.BookSide == 'BUY','next_2_clp_diff'] = \\\n",
    "prep_deals.loc[prep_deals.BookSide == 'BUY','next_2'] / \\\n",
    "prep_deals.loc[prep_deals.BookSide == 'BUY','ReferenceClientPrice'] > 1.0001\n",
    "\n",
    "prep_deals.loc[prep_deals.BookSide == 'SELL','next_2_clp_diff'] = \\\n",
    "prep_deals.loc[prep_deals.BookSide == 'SELL','next_2'] / \\\n",
    "prep_deals.loc[prep_deals.BookSide == 'SELL','ReferenceClientPrice'] < 0.9999"
   ]
  },
  {
   "cell_type": "code",
   "execution_count": 21,
   "metadata": {},
   "outputs": [],
   "source": [
    "from sklearn.preprocessing import LabelEncoder  \n",
    "\n",
    "le = LabelEncoder()\n",
    "prep_deals['Client_int'] = le.fit_transform(prep_deals['Client'])\n"
   ]
  },
  {
   "cell_type": "code",
   "execution_count": 22,
   "metadata": {},
   "outputs": [],
   "source": [
    "train_buy_X = prep_deals.loc[(prep_deals.BookSide == 'BUY') & (prep_deals.Month == 8), \n",
    "                          ['BookPositionReferenceCurrency', 'BaseQty', 'Hour', 'DayOfWeek','Client_int',\n",
    "                           'prev_r_mean', 'prev_r_val']]\n",
    "train_buy_Y = prep_deals.loc[(prep_deals.BookSide == 'BUY') & (prep_deals.Month == 8), \n",
    "                          ['next_2_clp_diff']]\n",
    "\n",
    "test_buy_X = prep_deals.loc[(prep_deals.BookSide == 'BUY') & (prep_deals.Month == 9), \n",
    "                          ['BookPositionReferenceCurrency', 'BaseQty', 'Hour', 'DayOfWeek','Client_int',\n",
    "                           'prev_r_mean', 'prev_r_val']]\n",
    "test_buy_Y = prep_deals.loc[(prep_deals.BookSide == 'BUY') & (prep_deals.Month == 9), \n",
    "                          ['next_2_clp_diff']]\n",
    "\n",
    "\n",
    "train_sell_X = prep_deals.loc[(prep_deals.BookSide == 'SELL') & (prep_deals.Month == 8), \n",
    "                          ['BookPositionReferenceCurrency', 'BaseQty', 'Hour', 'DayOfWeek','Client_int',\n",
    "                           'prev_r_mean', 'prev_r_val']]\n",
    "train_sell_Y = prep_deals.loc[(prep_deals.BookSide == 'SELL') & (prep_deals.Month == 8), \n",
    "                          ['next_2_clp_diff']]\n",
    "\n",
    "test_sell_X = prep_deals.loc[(prep_deals.BookSide == 'SELL') & (prep_deals.Month == 9), \n",
    "                          ['BookPositionReferenceCurrency', 'BaseQty', 'Hour', 'DayOfWeek','Client_int',\n",
    "                           'prev_r_mean', 'prev_r_val']]\n",
    "test_sell_Y = prep_deals.loc[(prep_deals.BookSide == 'SELL') & (prep_deals.Month == 9), \n",
    "                          ['next_2_clp_diff']]"
   ]
  },
  {
   "cell_type": "code",
   "execution_count": 23,
   "metadata": {
    "scrolled": true
   },
   "outputs": [
    {
     "name": "stdout",
     "output_type": "stream",
     "text": [
      "[LightGBM] [Info] Number of positive: 738, number of negative: 10999\n",
      "[LightGBM] [Warning] Auto-choosing col-wise multi-threading, the overhead of testing was 0.000717 seconds.\n",
      "You can set `force_col_wise=true` to remove the overhead.\n",
      "[LightGBM] [Info] Total Bins 1099\n",
      "[LightGBM] [Info] Number of data points in the train set: 11737, number of used features: 7\n",
      "[LightGBM] [Info] [binary:BoostFromScore]: pavg=0.062878 -> initscore=-2.701616\n",
      "[LightGBM] [Info] Start training from score -2.701616\n",
      "[1]\tvalid_0's auc: 0.64783\n",
      "[2]\tvalid_0's auc: 0.660539\n",
      "[3]\tvalid_0's auc: 0.66766\n",
      "[4]\tvalid_0's auc: 0.672011\n",
      "[5]\tvalid_0's auc: 0.674541\n",
      "[6]\tvalid_0's auc: 0.676279\n",
      "[7]\tvalid_0's auc: 0.676025\n",
      "[8]\tvalid_0's auc: 0.676589\n",
      "[9]\tvalid_0's auc: 0.677123\n",
      "[10]\tvalid_0's auc: 0.674791\n",
      "[11]\tvalid_0's auc: 0.676954\n",
      "[12]\tvalid_0's auc: 0.67689\n",
      "[13]\tvalid_0's auc: 0.676448\n",
      "[14]\tvalid_0's auc: 0.678033\n",
      "[15]\tvalid_0's auc: 0.677885\n",
      "[16]\tvalid_0's auc: 0.678743\n",
      "[17]\tvalid_0's auc: 0.678711\n",
      "[18]\tvalid_0's auc: 0.678696\n",
      "[19]\tvalid_0's auc: 0.678372\n",
      "[20]\tvalid_0's auc: 0.677542\n",
      "[21]\tvalid_0's auc: 0.677592\n",
      "[22]\tvalid_0's auc: 0.678049\n",
      "[23]\tvalid_0's auc: 0.677581\n",
      "[24]\tvalid_0's auc: 0.676993\n",
      "[25]\tvalid_0's auc: 0.676567\n"
     ]
    },
    {
     "name": "stderr",
     "output_type": "stream",
     "text": [
      "/Users/a16643222/anaconda3/lib/python3.7/site-packages/lightgbm/basic.py:1702: UserWarning: Using categorical_feature in Dataset.\n",
      "  _log_warning('Using categorical_feature in Dataset.')\n",
      "/Users/a16643222/anaconda3/lib/python3.7/site-packages/lightgbm/basic.py:1433: UserWarning: Overriding the parameters from Reference Dataset.\n",
      "  _log_warning('Overriding the parameters from Reference Dataset.')\n",
      "/Users/a16643222/anaconda3/lib/python3.7/site-packages/lightgbm/basic.py:1245: UserWarning: categorical_column in param dict is overridden.\n",
      "  _log_warning('{} in param dict is overridden.'.format(cat_alias))\n"
     ]
    }
   ],
   "source": [
    "import numpy as np\n",
    "import lightgbm as lgb\n",
    "from lightgbm import LGBMModel,LGBMClassifier\n",
    "from sklearn import metrics\n",
    "\n",
    "train_data = lgb.Dataset(train_buy_X, label=train_buy_Y.astype(int), \n",
    "                         feature_name=['BookPositionReferenceCurrency', 'BaseQty', \n",
    "                                       'Hour', 'DayOfWeek',\n",
    "                                       'Client_int', 'prev_r_mean', 'prev_r_val'], \n",
    "                         categorical_feature=['Client_int','Hour', 'DayOfWeek'])\n",
    "\n",
    "validation_data = lgb.Dataset(test_buy_X, label=test_buy_Y.astype(int), \n",
    "                         feature_name=['BookPositionReferenceCurrency', 'BaseQty', \n",
    "                                       'Hour', 'DayOfWeek',\n",
    "                                       'Client_int', 'prev_r_mean', 'prev_r_val'], \n",
    "                         categorical_feature=['Client_int','Hour', 'DayOfWeek'])\n",
    "\n",
    "\n",
    "param = {'num_leaves': 31, 'objective': 'binary'}\n",
    "param['metric'] = 'auc'\n",
    "num_round = 25\n",
    "bst_buy = lgb.train(param, train_data, num_round, valid_sets=[validation_data])\n"
   ]
  },
  {
   "cell_type": "code",
   "execution_count": 24,
   "metadata": {
    "scrolled": true
   },
   "outputs": [
    {
     "name": "stdout",
     "output_type": "stream",
     "text": [
      "[LightGBM] [Info] Number of positive: 1212, number of negative: 11594\n",
      "[LightGBM] [Warning] Auto-choosing col-wise multi-threading, the overhead of testing was 0.001042 seconds.\n",
      "You can set `force_col_wise=true` to remove the overhead.\n",
      "[LightGBM] [Info] Total Bins 1104\n",
      "[LightGBM] [Info] Number of data points in the train set: 12806, number of used features: 7\n",
      "[LightGBM] [Info] [binary:BoostFromScore]: pavg=0.094643 -> initscore=-2.258216\n",
      "[LightGBM] [Info] Start training from score -2.258216\n",
      "[1]\tvalid_0's auc: 0.655798\n",
      "[2]\tvalid_0's auc: 0.66767\n",
      "[3]\tvalid_0's auc: 0.676151\n",
      "[4]\tvalid_0's auc: 0.682617\n",
      "[5]\tvalid_0's auc: 0.681708\n",
      "[6]\tvalid_0's auc: 0.682395\n",
      "[7]\tvalid_0's auc: 0.684787\n",
      "[8]\tvalid_0's auc: 0.684583\n",
      "[9]\tvalid_0's auc: 0.684702\n",
      "[10]\tvalid_0's auc: 0.685538\n",
      "[11]\tvalid_0's auc: 0.686681\n",
      "[12]\tvalid_0's auc: 0.686808\n",
      "[13]\tvalid_0's auc: 0.685901\n",
      "[14]\tvalid_0's auc: 0.686037\n",
      "[15]\tvalid_0's auc: 0.683285\n",
      "[16]\tvalid_0's auc: 0.684206\n",
      "[17]\tvalid_0's auc: 0.683692\n",
      "[18]\tvalid_0's auc: 0.684355\n",
      "[19]\tvalid_0's auc: 0.68354\n",
      "[20]\tvalid_0's auc: 0.682888\n",
      "[21]\tvalid_0's auc: 0.683947\n",
      "[22]\tvalid_0's auc: 0.683706\n",
      "[23]\tvalid_0's auc: 0.682923\n",
      "[24]\tvalid_0's auc: 0.681841\n",
      "[25]\tvalid_0's auc: 0.680786\n"
     ]
    }
   ],
   "source": [
    "train_data = lgb.Dataset(train_sell_X, label=train_sell_Y.astype(int), \n",
    "                         feature_name=['BookPositionReferenceCurrency', 'BaseQty', \n",
    "                                       'Hour', 'DayOfWeek',\n",
    "                                       'Client_int', 'prev_r_mean', 'prev_r_val'], \n",
    "                         categorical_feature=['Client_int','Hour', 'DayOfWeek'])\n",
    "\n",
    "validation_data = lgb.Dataset(test_sell_X, label=test_sell_Y.astype(int), \n",
    "                         feature_name=['BookPositionReferenceCurrency', 'BaseQty', \n",
    "                                       'Hour', 'DayOfWeek',\n",
    "                                       'Client_int', 'prev_r_mean', 'prev_r_val'], \n",
    "                         categorical_feature=['Client_int','Hour', 'DayOfWeek'])\n",
    "\n",
    "\n",
    "param = {'num_leaves': 31, 'objective': 'binary'}\n",
    "param['metric'] = 'auc'\n",
    "num_round = 25\n",
    "bst_sell = lgb.train(param, train_data, num_round, valid_sets=[validation_data])"
   ]
  },
  {
   "cell_type": "code",
   "execution_count": 25,
   "metadata": {},
   "outputs": [],
   "source": [
    "prep_deals['is_accept_buy_reject'] = -1\n",
    "prep_deals.loc[(prep_deals.BookSide == 'BUY') & (prep_deals.Month == 9), 'is_accept_buy_reject'] = \\\n",
    "bst_buy.predict(prep_deals.loc[(prep_deals.BookSide == 'BUY') & (prep_deals.Month == 9), \n",
    "                          ['BookPositionReferenceCurrency', 'BaseQty', 'Hour', 'DayOfWeek','Client_int',\n",
    "                           'prev_r_mean', 'prev_r_val']]) "
   ]
  },
  {
   "cell_type": "code",
   "execution_count": 26,
   "metadata": {},
   "outputs": [],
   "source": [
    "prep_deals['is_accept_sell_reject'] = -1\n",
    "prep_deals.loc[(prep_deals.BookSide == 'SELL') & (prep_deals.Month == 9), 'is_accept_sell_reject'] = \\\n",
    "bst_sell.predict(prep_deals.loc[(prep_deals.BookSide == 'SELL') & (prep_deals.Month == 9), \n",
    "                          ['BookPositionReferenceCurrency', 'BaseQty', 'Hour', 'DayOfWeek','Client_int',\n",
    "                           'prev_r_mean', 'prev_r_val']]) "
   ]
  },
  {
   "cell_type": "code",
   "execution_count": 27,
   "metadata": {},
   "outputs": [
    {
     "data": {
      "text/plain": [
       "<matplotlib.axes._subplots.AxesSubplot at 0x7fb40cc02990>"
      ]
     },
     "execution_count": 27,
     "metadata": {},
     "output_type": "execute_result"
    },
    {
     "data": {
      "image/png": "[encoded data removed]",
      "text/plain": [
       "<Figure size 432x288 with 1 Axes>"
      ]
     },
     "metadata": {
      "needs_background": "light"
     },
     "output_type": "display_data"
    }
   ],
   "source": [
    "prep_deals.loc[(prep_deals.BookSide == 'BUY') & (prep_deals.Month == 9), 'is_accept_buy_reject'].hist(bins=100)"
   ]
  },
  {
   "cell_type": "code",
   "execution_count": 28,
   "metadata": {},
   "outputs": [
    {
     "data": {
      "text/plain": [
       "<matplotlib.axes._subplots.AxesSubplot at 0x7fb40cac4450>"
      ]
     },
     "execution_count": 28,
     "metadata": {},
     "output_type": "execute_result"
    },
    {
     "data": {
      "image/png": "[encoded data removed]",
      "text/plain": [
       "<Figure size 432x288 with 1 Axes>"
      ]
     },
     "metadata": {
      "needs_background": "light"
     },
     "output_type": "display_data"
    }
   ],
   "source": [
    "prep_deals.loc[(prep_deals.BookSide == 'SELL') & (prep_deals.Month == 9), 'is_accept_sell_reject'].hist(bins=100)"
   ]
  },
  {
   "cell_type": "code",
   "execution_count": 29,
   "metadata": {},
   "outputs": [],
   "source": [
    "prep_deals['target'] = False\n",
    "prep_deals.loc[(prep_deals.BookSide == 'BUY') & (prep_deals.Month == 9), 'target'] = \\\n",
    "prep_deals.loc[(prep_deals.BookSide == 'BUY') & (prep_deals.Month == 9), 'is_accept_buy_reject'] > 0.35\n",
    "\n",
    "prep_deals.loc[(prep_deals.BookSide == 'SELL') & (prep_deals.Month == 9), 'target'] = \\\n",
    "prep_deals.loc[(prep_deals.BookSide == 'SELL') & (prep_deals.Month == 9), 'is_accept_sell_reject'] > 0.35"
   ]
  },
  {
   "cell_type": "code",
   "execution_count": 30,
   "metadata": {},
   "outputs": [
    {
     "data": {
      "text/plain": [
       "0        2020-08-03 10:00\n",
       "1        2020-08-03 10:00\n",
       "2        2020-08-03 10:00\n",
       "3        2020-08-03 10:00\n",
       "4        2020-08-03 10:00\n",
       "               ...       \n",
       "94207    2020-11-11 14:15\n",
       "94208    2020-11-11 14:15\n",
       "94209    2020-11-11 14:15\n",
       "94210    2020-11-11 14:16\n",
       "94211    2020-11-11 14:17\n",
       "Name: Moment, Length: 94212, dtype: object"
      ]
     },
     "execution_count": 30,
     "metadata": {},
     "output_type": "execute_result"
    }
   ],
   "source": [
    "prep_deals['Moment'].dt.strftime('%Y-%m-%d %H:%M')"
   ]
  },
  {
   "cell_type": "code",
   "execution_count": 31,
   "metadata": {},
   "outputs": [],
   "source": [
    "#prep_deals.loc[ (prep_deals.Month == 9) & (prep_deals.target), :].to_pickle('./data/marketreplay/input/good_rejects.pkl')"
   ]
  },
  {
   "cell_type": "code",
   "execution_count": 32,
   "metadata": {},
   "outputs": [],
   "source": [
    "dates = list(pd.to_datetime(prep_deals.loc[(prep_deals.Month == 9) & (prep_deals.target), \n",
    "                                           'Moment'].dt.date).drop_duplicates()\n",
    "                                                 .sort_values()\n",
    "                                                 .dt.strftime('%Y-%m-%d'))"
   ]
  },
  {
   "cell_type": "code",
   "execution_count": 43,
   "metadata": {},
   "outputs": [],
   "source": [
    "# prep_deals[(prep_deals.Hour <= 10) & (prep_deals.Month == 9) &\\\n",
    "#           (prep_deals['Type']=='Reject') & \\\n",
    "#           prep_deals.target]\n",
    "\n",
    "prep_deals[(prep_deals.Hour <= 10) & (prep_deals.Month == 9) &\\\n",
    "          (prep_deals['Type']=='Reject') & \\\n",
    "          prep_deals.target].to_pickle('./data/marketreplay/input/morning_rejects.pkl')"
   ]
  },
  {
   "cell_type": "code",
   "execution_count": 56,
   "metadata": {},
   "outputs": [
    {
     "data": {
      "text/plain": [
       "<matplotlib.axes._subplots.AxesSubplot at 0x7fb40e9aff10>"
      ]
     },
     "execution_count": 56,
     "metadata": {},
     "output_type": "execute_result"
    },
    {
     "data": {
      "image/png": "[encoded data removed]",
      "text/plain": [
       "<Figure size 432x288 with 1 Axes>"
      ]
     },
     "metadata": {
      "needs_background": "light"
     },
     "output_type": "display_data"
    }
   ],
   "source": [
    "tmp  = pd.read_pickle('./data/marketreplay/input/morning_rejects.pkl')\n",
    "tmp[tmp.BaseQty.abs() < 1_000_000].BaseQty.hist(bins = 30)"
   ]
  },
  {
   "cell_type": "code",
   "execution_count": 59,
   "metadata": {},
   "outputs": [
    {
     "data": {
      "text/plain": [
       "((159, 39), (220, 39))"
      ]
     },
     "execution_count": 59,
     "metadata": {},
     "output_type": "execute_result"
    }
   ],
   "source": [
    "tmp[tmp.BaseQty.abs() <= 1_00_000].shape, tmp.shape"
   ]
  },
  {
   "cell_type": "code",
   "execution_count": 61,
   "metadata": {},
   "outputs": [
    {
     "name": "stderr",
     "output_type": "stream",
     "text": [
      "/Users/a16643222/anaconda3/lib/python3.7/site-packages/ipykernel_launcher.py:4: SettingWithCopyWarning: \n",
      "A value is trying to be set on a copy of a slice from a DataFrame.\n",
      "Try using .loc[row_indexer,col_indexer] = value instead\n",
      "\n",
      "See the caveats in the documentation: https://pandas.pydata.org/pandas-docs/stable/user_guide/indexing.html#returning-a-view-versus-a-copy\n",
      "  after removing the cwd from sys.path.\n"
     ]
    },
    {
     "data": {
      "text/plain": [
       "4661022939.438887"
      ]
     },
     "execution_count": 61,
     "metadata": {},
     "output_type": "execute_result"
    }
   ],
   "source": [
    "morning_rejects = prep_deals[(prep_deals.Hour <= 10) & (prep_deals.Month == 9) &\\\n",
    "          (prep_deals['Type']=='Reject') & \\\n",
    "          prep_deals.target]\n",
    "morning_rejects['RUR_QTY'] = morning_rejects['BaseQty'] * morning_rejects['ReferenceClientPrice']\n",
    "morning_rejects['RUR_QTY'].abs().sum()"
   ]
  },
  {
   "cell_type": "code",
   "execution_count": 16,
   "metadata": {},
   "outputs": [
    {
     "name": "stderr",
     "output_type": "stream",
     "text": [
      "/Users/a16643222/anaconda3/lib/python3.7/site-packages/ipykernel_launcher.py:6: SettingWithCopyWarning: \n",
      "A value is trying to be set on a copy of a slice from a DataFrame.\n",
      "Try using .loc[row_indexer,col_indexer] = value instead\n",
      "\n",
      "See the caveats in the documentation: https://pandas.pydata.org/pandas-docs/stable/user_guide/indexing.html#returning-a-view-versus-a-copy\n",
      "  \n"
     ]
    },
    {
     "data": {
      "text/plain": [
       "40515231874.69365"
      ]
     },
     "execution_count": 16,
     "metadata": {},
     "output_type": "execute_result"
    }
   ],
   "source": [
    "# prep_deals[(prep_deals.Hour <= 10) & (prep_deals.Month == 9) &\\\n",
    "#           (prep_deals['Type']=='Reject')].to_pickle('./data/marketreplay/input/all_morning_rejects.pkl')\n",
    "\n",
    "all_morning_rejects = prep_deals[(prep_deals.Hour <= 10) & (prep_deals.Month == 9) &\\\n",
    "          (prep_deals['Type']=='Reject')]\n",
    "all_morning_rejects['RUR_QTY'] = all_morning_rejects['BaseQty'] * all_morning_rejects['ReferenceClientPrice']\n",
    "all_morning_rejects['RUR_QTY'].abs().sum()"
   ]
  },
  {
   "cell_type": "code",
   "execution_count": 17,
   "metadata": {},
   "outputs": [
    {
     "data": {
      "text/plain": [
       "(1764, 40)"
      ]
     },
     "execution_count": 17,
     "metadata": {},
     "output_type": "execute_result"
    }
   ],
   "source": [
    "all_morning_rejects.shape"
   ]
  },
  {
   "cell_type": "code",
   "execution_count": 46,
   "metadata": {},
   "outputs": [
    {
     "name": "stdout",
     "output_type": "stream",
     "text": [
      "2020-09-01 6.869832124928576e-09\n",
      "2020-09-02 3.172736032656774e-09\n",
      "2020-09-03 4.657887907795034e-09\n",
      "2020-09-04 6.446745836072757e-09\n",
      "2020-09-07 7.463566218880319e-09\n",
      "2020-09-08 5.069578258948194e-09\n",
      "2020-09-09 8.459234762265389e-09\n",
      "2020-09-10 4.613399082552355e-09\n",
      "2020-09-11 4.119079916294495e-09\n",
      "2020-09-14 4.865260630263364e-09\n",
      "2020-09-15 8.199897016580891e-09\n",
      "2020-09-16 2.1798940538359157e-09\n",
      "2020-09-17 1.2990383763135316e-09\n",
      "2020-09-18 2.2699877682388507e-09\n",
      "2020-09-21 4.035311799192039e-09\n",
      "2020-09-22 3.789903833571985e-09\n",
      "2020-09-23 2.734024865187908e-09\n",
      "2020-09-24 5.961327122166742e-09\n",
      "2020-09-25 6.139573470353467e-09\n",
      "2020-09-28 7.788429745987705e-09\n",
      "2020-09-29 1.3939083334766401e-08\n",
      "2020-09-30 1.7792356028797217e-08\n"
     ]
    }
   ],
   "source": [
    "l = []\n",
    "for i in dates:\n",
    "    v = prep_deals.loc[ \n",
    "                (prep_deals['Moment'].dt.strftime('%Y-%m-%d %H:%M') <= i+' 10:20') & \\\n",
    "               (prep_deals['Moment'].dt.strftime('%Y-%m-%d %H:%M') >= i+' 10:00'), 'prev_r_val' ].mean()\n",
    "    print( i,  v)\n",
    "    l.append(v)\n"
   ]
  },
  {
   "cell_type": "code",
   "execution_count": 61,
   "metadata": {},
   "outputs": [
    {
     "data": {
      "text/plain": [
       "array([[<matplotlib.axes._subplots.AxesSubplot object at 0x7fb40ec277d0>]],\n",
       "      dtype=object)"
      ]
     },
     "execution_count": 61,
     "metadata": {},
     "output_type": "execute_result"
    },
    {
     "data": {
      "image/png": "[encoded data removed]",
      "text/plain": [
       "<Figure size 432x288 with 1 Axes>"
      ]
     },
     "metadata": {
      "needs_background": "light"
     },
     "output_type": "display_data"
    }
   ],
   "source": [
    "pd.DataFrame(l).hist(bins=8)"
   ]
  },
  {
   "cell_type": "code",
   "execution_count": 65,
   "metadata": {},
   "outputs": [
    {
     "name": "stdout",
     "output_type": "stream",
     "text": [
      "2020-09-01 (6, 39)\n",
      "2020-09-02 (3, 39)\n",
      "2020-09-03 (1, 39)\n",
      "2020-09-04 (7, 39)\n",
      "2020-09-07 (8, 39)\n",
      "2020-09-08 (0, 39)\n",
      "2020-09-09 (2, 39)\n",
      "2020-09-10 (4, 39)\n",
      "2020-09-11 (3, 39)\n",
      "2020-09-14 (5, 39)\n",
      "2020-09-15 (4, 39)\n",
      "2020-09-16 (2, 39)\n",
      "2020-09-17 (1, 39)\n",
      "2020-09-18 (2, 39)\n",
      "2020-09-21 (1, 39)\n",
      "2020-09-22 (7, 39)\n",
      "2020-09-23 (11, 39)\n",
      "2020-09-24 (3, 39)\n",
      "2020-09-25 (18, 39)\n",
      "2020-09-28 (3, 39)\n",
      "2020-09-29 (16, 39)\n",
      "2020-09-30 (8, 39)\n"
     ]
    }
   ],
   "source": [
    "for i in dates:\n",
    "    print( i, prep_deals[(prep_deals['Moment'].dt.strftime('%Y-%m-%d %H:%M') <= i+' 10:00') & \\\n",
    "           (prep_deals['Moment'].dt.strftime('%Y-%m-%d %H:%M') >= i+' 09:00')  ].shape )"
   ]
  },
  {
   "cell_type": "code",
   "execution_count": 26,
   "metadata": {},
   "outputs": [],
   "source": [
    "#prep_deals.loc[ (prep_deals.Month == 9) & (prep_deals['Type']=='Reject')].to_pickle('./data/marketreplay/input/all_09_rejects.pkl')"
   ]
  },
  {
   "cell_type": "code",
   "execution_count": 27,
   "metadata": {},
   "outputs": [
    {
     "data": {
      "text/plain": [
       "'2020-09-01 2020-09-02 2020-09-03 2020-09-04 2020-09-07 2020-09-08 2020-09-09 2020-09-10 2020-09-11 2020-09-14 2020-09-15 2020-09-16 2020-09-17 2020-09-18 2020-09-21 2020-09-22 2020-09-23 2020-09-24 2020-09-25 2020-09-28 2020-09-29 2020-09-30'"
      ]
     },
     "execution_count": 27,
     "metadata": {},
     "output_type": "execute_result"
    }
   ],
   "source": [
    "' '.join(dates)"
   ]
  },
  {
   "cell_type": "code",
   "execution_count": null,
   "metadata": {},
   "outputs": [],
   "source": [
    "python -u abides.py -c marketreplay_USD -t USD -d 20200914 -s 1234 -l USD_09_replay"
   ]
  },
  {
   "cell_type": "code",
   "execution_count": null,
   "metadata": {},
   "outputs": [],
   "source": [
    "#!/bin/bash\n",
    "for i in {20200901 20200902 20200903 20200904 20200907 20200908 20200909 20200910 20200911 20200914 20200915 20200916 20200917 20200918 20200921 20200922 20200923 20200924 20200925 20200928 20200929 20200930}\n",
    "do\n",
    "   echo \"python -u abides.py -c marketreplay_USD -t USD -d $i -s 1234 -l USD_09_replay\"\n",
    "done"
   ]
  }
 ],
 "metadata": {
  "kernelspec": {
   "display_name": "Python 3",
   "language": "python",
   "name": "python3"
  },
  "language_info": {
   "codemirror_mode": {
    "name": "ipython",
    "version": 3
   },
   "file_extension": ".py",
   "mimetype": "text/x-python",
   "name": "python",
   "nbconvert_exporter": "python",
   "pygments_lexer": "ipython3",
   "version": "3.7.6"
  }
 },
 "nbformat": 4,
 "nbformat_minor": 4
}
