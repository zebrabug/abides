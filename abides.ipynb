{
  "nbformat": 4,
  "nbformat_minor": 0,
  "metadata": {
    "colab": {
      "name": "abides.ipynb",
      "provenance": [],
      "collapsed_sections": [],
      "machine_shape": "hm"
    },
    "kernelspec": {
      "display_name": "Python 3",
      "name": "python3"
    }
  },
  "cells": [
    {
      "cell_type": "code",
      "metadata": {
        "id": "s-WADkxSwcXs"
      },
      "source": [
        "!git clone https://github.com/zebrabug/abides.git && cd abides && pip install -r requirements.txt"
      ],
      "execution_count": null,
      "outputs": []
    },
    {
      "cell_type": "code",
      "metadata": {
        "colab": {
          "base_uri": "https://localhost:8080/"
        },
        "id": "ruybMzvIw0Ei",
        "outputId": "355a3f7d-86a2-4005-e059-a293277190c4"
      },
      "source": [
        "!cd abides && python -u abides.py -c rmsc03 -t MSFT -d 20120621 -s 1234 -l MSFT_2012-06-21_34200000_57600000_message_5.csv"
      ],
      "execution_count": 2,
      "outputs": [
        {
          "output_type": "stream",
          "text": [
            "=========================================================\n",
            "ABIDES: Agent-Based Interactive Discrete Event Simulation\n",
            "=========================================================\n",
            "\n",
            "Simulation Start Time: 2021-05-23 08:05:30.479471\n",
            "Configuration seed: 1234\n",
            "\n",
            "Processed file does not exist for MSFT and 2012-06-21, processing...\n",
            "processed file created as ./data/marketreplay/marketreplay_MSFT_2012-06-21.pkl\n",
            "\n",
            "--- Simulation time: 2012-06-21 00:00:00, messages processed: 0, wallclock elapsed: 0 days 00:00:00.000089 ---\n",
            "\n",
            "\n",
            "--- Simulation time: 2012-06-21 09:42:42.519347, messages processed: 100000, wallclock elapsed: 0 days 00:00:18.441678 ---\n",
            "\n",
            "\n",
            "--- Simulation time: 2012-06-21 10:04:46.391721432, messages processed: 200000, wallclock elapsed: 0 days 00:00:42.862355 ---\n",
            "\n",
            "\n",
            "--- Simulation time: 2012-06-21 10:20:58.100196864, messages processed: 300000, wallclock elapsed: 0 days 00:01:13.625615 ---\n",
            "\n",
            "\n",
            "--- Simulation time: 2012-06-21 10:45:11.706084432, messages processed: 400000, wallclock elapsed: 0 days 00:01:48.662947 ---\n",
            "\n",
            "\n",
            "--- Simulation time: 2012-06-21 11:06:39.527845, messages processed: 500000, wallclock elapsed: 0 days 00:02:27.508458 ---\n",
            "\n",
            "\n",
            "--- Simulation time: 2012-06-21 11:26:35.710568864, messages processed: 600000, wallclock elapsed: 0 days 00:03:08.300185 ---\n",
            "\n",
            "Final holdings for MARKET_REPLAY_AGENT: { MSFT: -10000, CASH: 3085015000 }.  Marked to market: 11015000\n",
            "Final holdings for MOMENTUM_AGENT_2: { CASH: 9985000 }.  Marked to market: 9985000\n",
            "Final holdings for OBI_AGENT_3: { MSFT: 10000, CASH: -3075000000 }.  Marked to market: 10000000\n",
            "Time taken to log the order book: 0:00:00.000012\n",
            "Order book archival complete.\n",
            "Event Queue elapsed: 0 days 00:03:13.223493, messages: 609562, messages per second: 3154.7\n",
            "Mean ending value by agent type:\n",
            "MarketReplayAgent: 11015000\n",
            "MomentumAgent: -15000\n",
            "OrderBookImbalanceAgent: 0\n",
            "Simulation ending!\n",
            "Simulation End Time: 2021-05-23 08:11:27.822290\n",
            "Time taken to run simulation: 0:05:57.342819\n"
          ],
          "name": "stdout"
        }
      ]
    },
    {
      "cell_type": "code",
      "metadata": {
        "id": "DJbQ9U0yRbk7"
      },
      "source": [
        ""
      ],
      "execution_count": null,
      "outputs": []
    }
  ]
}